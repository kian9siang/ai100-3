{
 "cells": [
  {
   "cell_type": "markdown",
   "metadata": {},
   "source": [
    "## [作業目標]\n",
    "了解機器學習適合應用的領域與範疇。"
   ]
  },
  {
   "cell_type": "markdown",
   "metadata": {},
   "source": [
    "## [作業重點]\n",
    "透過瞭解機器學習的運作方式，找出非常適用機器學習應用的領域及其原因"
   ]
  },
  {
   "cell_type": "markdown",
   "metadata": {},
   "source": [
    "## 作業\n",
    "請找出一個你認為機器學習可以發光發熱的領域並闡述原因? \n",
    "\n",
    "醫學領域. 臨床因為醫師的技術、經驗、知識的原因導致醫療處置如手術的成功率不一致, 利用機器學習可以讓準確率維持在一定水平. 同時減輕臨床工作者的負擔, 代替其雙眼或雙手進行病理切片、病人生命徵象的監控等. 目前台灣已經有嘗試AI門診, 可以減輕醫師的門診量, 對於有需要的病患能更有時間做醫囑解釋達到雙贏. 醫療畢竟有太多的變數, 所以機器學習還是在輔助的角色進行一些例行性的作業, 不過對於工作負擔壓力極大的臨床工作者來說已經可以提供足夠且可靠的幫助了.\n",
    "\n"
   ]
  },
  {
   "cell_type": "code",
   "execution_count": null,
   "metadata": {},
   "outputs": [],
   "source": [
    "   "
   ]
  }
 ],
 "metadata": {
  "kernelspec": {
   "display_name": "Python 3",
   "language": "python",
   "name": "python3"
  },
  "language_info": {
   "codemirror_mode": {
    "name": "ipython",
    "version": 3
   },
   "file_extension": ".py",
   "mimetype": "text/x-python",
   "name": "python",
   "nbconvert_exporter": "python",
   "pygments_lexer": "ipython3",
   "version": "3.7.3"
  }
 },
 "nbformat": 4,
 "nbformat_minor": 2
}
