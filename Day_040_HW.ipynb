{
 "cells": [
  {
   "cell_type": "markdown",
   "metadata": {},
   "source": [
    "## [作業重點]\n",
    "使用 Sklearn 中的 Lasso, Ridge 模型，來訓練各種資料集，務必了解送進去模型訓練的**資料型態**為何，也請了解模型中各項參數的意義。\n",
    "\n",
    "機器學習的模型非常多種，但要訓練的資料多半有固定的格式，確保你了解訓練資料的格式為何，這樣在應用新模型時，就能夠最快的上手開始訓練！"
   ]
  },
  {
   "cell_type": "markdown",
   "metadata": {},
   "source": [
    "## 練習時間\n",
    "試著使用 sklearn datasets 的其他資料集 (boston, ...)，來訓練自己的線性迴歸模型，並加上適當的正則化來觀察訓練情形。"
   ]
  },
  {
   "cell_type": "code",
   "execution_count": 15,
   "metadata": {},
   "outputs": [
    {
     "name": "stdout",
     "output_type": "stream",
     "text": [
      "Coefficient: \n",
      " [-9.23918092e-02  5.19198924e-02  1.24803436e-03  2.84511156e+00\n",
      " -1.67313641e+01  3.83674052e+00  1.19762405e-03 -1.41273350e+00\n",
      "  3.02192034e-01 -1.34999217e-02 -7.53049545e-01  1.06993655e-02\n",
      " -4.58433676e-01]\n",
      "Mean Squared error: 27.18\n"
     ]
    }
   ],
   "source": [
    "import numpy as np\n",
    "import matplotlib.pyplot as plt\n",
    "from sklearn import datasets\n",
    "from sklearn.linear_model import LinearRegression, Lasso, Ridge\n",
    "from sklearn.model_selection import train_test_split\n",
    "from sklearn.metrics import mean_squared_error, r2_score\n",
    "\n",
    "boston = datasets.load_boston()\n",
    "X_train, X_test, y_train, y_test = train_test_split(boston.data, boston.target, test_size = 0.5, random_state = 4)\n",
    "regr = LinearRegression()\n",
    "regr.fit(X_train, y_train)\n",
    "y_pred = regr.predict(X_test)\n",
    "\n",
    "print(\"Coefficient: \\n\", regr.coef_)\n",
    "print(\"Mean Squared error: %.2f\" % mean_squared_error(y_test, y_pred))"
   ]
  },
  {
   "cell_type": "code",
   "execution_count": 16,
   "metadata": {},
   "outputs": [
    {
     "name": "stdout",
     "output_type": "stream",
     "text": [
      "Coefficient: \n",
      " [-0.03916744  0.0617941  -0.02779992  0.         -0.          0.\n",
      "  0.02609606 -0.64959948  0.29190937 -0.01751481 -0.46944254  0.00995448\n",
      " -0.7292626 ]\n",
      "Mean Squared error: 37.63\n"
     ]
    }
   ],
   "source": [
    "# Lasso\n",
    "\n",
    "regr2 = Lasso(alpha = 1)\n",
    "regr2.fit(X_train, y_train)\n",
    "y_pred2 = regr2.predict(X_test)\n",
    "\n",
    "print(\"Coefficient: \\n\", regr2.coef_)\n",
    "print(\"Mean Squared error: %.2f\" % mean_squared_error(y_test, y_pred2))"
   ]
  },
  {
   "cell_type": "code",
   "execution_count": 17,
   "metadata": {},
   "outputs": [
    {
     "name": "stdout",
     "output_type": "stream",
     "text": [
      "Coefficient: \n",
      " [-0.08292168  0.05338013 -0.03914737  2.44020723 -7.66490334  3.84095214\n",
      " -0.00929774 -1.3066361   0.29176131 -0.01468701 -0.67059712  0.01126837\n",
      " -0.47041693]\n",
      "Mean Squared error: 27.54\n"
     ]
    }
   ],
   "source": [
    "# Ridge\n",
    "\n",
    "regr3 = Ridge(alpha = 1)\n",
    "regr3.fit(X_train, y_train)\n",
    "y_pred3 = regr3.predict(X_test)\n",
    "\n",
    "print(\"Coefficient: \\n\", regr3.coef_)\n",
    "print(\"Mean Squared error: %.2f\" % mean_squared_error(y_test, y_pred3))"
   ]
  },
  {
   "cell_type": "code",
   "execution_count": null,
   "metadata": {},
   "outputs": [],
   "source": []
  }
 ],
 "metadata": {
  "kernelspec": {
   "display_name": "Python 3",
   "language": "python",
   "name": "python3"
  },
  "language_info": {
   "codemirror_mode": {
    "name": "ipython",
    "version": 3
   },
   "file_extension": ".py",
   "mimetype": "text/x-python",
   "name": "python",
   "nbconvert_exporter": "python",
   "pygments_lexer": "ipython3",
   "version": "3.7.4"
  }
 },
 "nbformat": 4,
 "nbformat_minor": 2
}
